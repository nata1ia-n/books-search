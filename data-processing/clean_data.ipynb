{
 "cells": [
  {
   "cell_type": "code",
   "execution_count": 2,
   "metadata": {},
   "outputs": [],
   "source": [
    "import pandas as pd"
   ]
  },
  {
   "cell_type": "code",
   "execution_count": 3,
   "metadata": {},
   "outputs": [],
   "source": [
    "df = pd.read_csv(\"data/BooksDataset.csv\")\n",
    "df.columns = df.columns.str.lower()"
   ]
  },
  {
   "cell_type": "code",
   "execution_count": 4,
   "metadata": {},
   "outputs": [],
   "source": [
    "df = df.dropna(subset=[\"description\", \"category\"])\n",
    "df = df.drop_duplicates(subset=[\"title\", \"authors\"])\n",
    "df = df.drop(columns=[\"publisher\", \"publish date\", \"price\"])"
   ]
  },
  {
   "cell_type": "code",
   "execution_count": 5,
   "metadata": {},
   "outputs": [],
   "source": [
    "df[\"title\"] = df[\"title\"].str.strip()\n",
    "df[\"authors\"] = df[\"authors\"].str.strip()\n",
    "df[\"description\"] = df[\"description\"].str.strip()\n",
    "df[\"category\"] = df[\"category\"].str.strip()"
   ]
  },
  {
   "cell_type": "code",
   "execution_count": 6,
   "metadata": {},
   "outputs": [],
   "source": [
    "df.to_csv(\"data/cleaned_books.csv\", index=False)"
   ]
  },
  {
   "cell_type": "code",
   "execution_count": 7,
   "metadata": {},
   "outputs": [
    {
     "data": {
      "text/html": [
       "<div>\n",
       "<style scoped>\n",
       "    .dataframe tbody tr th:only-of-type {\n",
       "        vertical-align: middle;\n",
       "    }\n",
       "\n",
       "    .dataframe tbody tr th {\n",
       "        vertical-align: top;\n",
       "    }\n",
       "\n",
       "    .dataframe thead th {\n",
       "        text-align: right;\n",
       "    }\n",
       "</style>\n",
       "<table border=\"1\" class=\"dataframe\">\n",
       "  <thead>\n",
       "    <tr style=\"text-align: right;\">\n",
       "      <th></th>\n",
       "      <th>title</th>\n",
       "      <th>authors</th>\n",
       "      <th>description</th>\n",
       "      <th>category</th>\n",
       "    </tr>\n",
       "  </thead>\n",
       "  <tbody>\n",
       "    <tr>\n",
       "      <th>7</th>\n",
       "      <td>Journey Through Heartsongs</td>\n",
       "      <td>By Stepanek, Mattie J. T.</td>\n",
       "      <td>Collects poems written by the eleven-year-old ...</td>\n",
       "      <td>Poetry , General</td>\n",
       "    </tr>\n",
       "    <tr>\n",
       "      <th>8</th>\n",
       "      <td>In Search of Melancholy Baby</td>\n",
       "      <td>By Aksyonov, Vassily, Heim, Michael Henry, and...</td>\n",
       "      <td>The Russian author offers an affectionate chro...</td>\n",
       "      <td>Biography &amp; Autobiography , General</td>\n",
       "    </tr>\n",
       "    <tr>\n",
       "      <th>10</th>\n",
       "      <td>The Dieter's Guide to Weight Loss During Sex</td>\n",
       "      <td>By Smith, Richard</td>\n",
       "      <td>A humor classic, this tongue-in-cheek diet pla...</td>\n",
       "      <td>Health &amp; Fitness , Diet &amp; Nutrition , Diets</td>\n",
       "    </tr>\n",
       "    <tr>\n",
       "      <th>11</th>\n",
       "      <td>Germs : Biological Weapons and America's Secre...</td>\n",
       "      <td>By Miller, Judith, Engelberg, Stephen, and Bro...</td>\n",
       "      <td>Deadly germs sprayed in shopping malls, bomb-l...</td>\n",
       "      <td>Technology &amp; Engineering , Military Science</td>\n",
       "    </tr>\n",
       "    <tr>\n",
       "      <th>13</th>\n",
       "      <td>The Good Book: Reading the Bible with Mind and...</td>\n",
       "      <td>By Gomes, Peter J.</td>\n",
       "      <td>\"The Bible and the social and moral consequenc...</td>\n",
       "      <td>Religion , Biblical Biography , General</td>\n",
       "    </tr>\n",
       "  </tbody>\n",
       "</table>\n",
       "</div>"
      ],
      "text/plain": [
       "                                                title  \\\n",
       "7                          Journey Through Heartsongs   \n",
       "8                        In Search of Melancholy Baby   \n",
       "10       The Dieter's Guide to Weight Loss During Sex   \n",
       "11  Germs : Biological Weapons and America's Secre...   \n",
       "13  The Good Book: Reading the Bible with Mind and...   \n",
       "\n",
       "                                              authors  \\\n",
       "7                           By Stepanek, Mattie J. T.   \n",
       "8   By Aksyonov, Vassily, Heim, Michael Henry, and...   \n",
       "10                                  By Smith, Richard   \n",
       "11  By Miller, Judith, Engelberg, Stephen, and Bro...   \n",
       "13                                 By Gomes, Peter J.   \n",
       "\n",
       "                                          description  \\\n",
       "7   Collects poems written by the eleven-year-old ...   \n",
       "8   The Russian author offers an affectionate chro...   \n",
       "10  A humor classic, this tongue-in-cheek diet pla...   \n",
       "11  Deadly germs sprayed in shopping malls, bomb-l...   \n",
       "13  \"The Bible and the social and moral consequenc...   \n",
       "\n",
       "                                       category  \n",
       "7                              Poetry , General  \n",
       "8           Biography & Autobiography , General  \n",
       "10  Health & Fitness , Diet & Nutrition , Diets  \n",
       "11  Technology & Engineering , Military Science  \n",
       "13      Religion , Biblical Biography , General  "
      ]
     },
     "execution_count": 7,
     "metadata": {},
     "output_type": "execute_result"
    }
   ],
   "source": [
    "df.head()"
   ]
  }
 ],
 "metadata": {
  "kernelspec": {
   "display_name": "Python (myenv)",
   "language": "python",
   "name": "myenv"
  },
  "language_info": {
   "codemirror_mode": {
    "name": "ipython",
    "version": 3
   },
   "file_extension": ".py",
   "mimetype": "text/x-python",
   "name": "python",
   "nbconvert_exporter": "python",
   "pygments_lexer": "ipython3",
   "version": "3.13.2"
  }
 },
 "nbformat": 4,
 "nbformat_minor": 2
}
